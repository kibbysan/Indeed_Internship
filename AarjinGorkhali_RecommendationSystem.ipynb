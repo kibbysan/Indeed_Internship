{
 "cells": [
  {
   "cell_type": "markdown",
   "id": "9ef7f819-98b4-4e58-9f02-a2c05dd8f2fa",
   "metadata": {},
   "source": [
    "## Loading Tools\n"
   ]
  },
  {
   "cell_type": "code",
   "execution_count": 1,
   "id": "59646a19-fbc2-4d99-a210-2d069c1bf38f",
   "metadata": {},
   "outputs": [],
   "source": [
    "import pandas as pd\n",
    "import numpy as np\n",
    "import matplotlib.pyplot as plt\n",
    "import seaborn as sns\n",
    "from sklearn.model_selection import train_test_split\n",
    "from sklearn.feature_extraction.text import TfidfVectorizer\n",
    "from sklearn.ensemble import RandomForestClassifier\n",
    "from sklearn.metrics import accuracy_score, confusion_matrix\n",
    "from sklearn.utils import resample"
   ]
  },
  {
   "cell_type": "code",
   "execution_count": 2,
   "id": "62073e20-9396-4a58-8f86-3fe9e245a9bc",
   "metadata": {},
   "outputs": [],
   "source": [
    "# Load the dataset\n",
    "df = pd.read_csv('NYCdataset.csv')"
   ]
  },
  {
   "cell_type": "code",
   "execution_count": 3,
   "id": "41e8d8b2-e713-401e-b033-d03d5447248b",
   "metadata": {},
   "outputs": [],
   "source": [
    "# Drop unnecessary columns\n",
    "columnsToDrop = [\n",
    "    'Title Code No', \n",
    "    'Work Location 1', \n",
    "    'Recruitment Contact', \n",
    "    'Residency Requirement', \n",
    "    'To Apply', \n",
    "    'Post Until', \n",
    "    'Process Date', \n",
    "    'Posting Updated',\n",
    "    'Posting Type', \n",
    "    'Civil Service Title', \n",
    "    'Title Classification', \n",
    "    'Division/Work Unit', \n",
    "    'Hours/Shift', \n",
    "    'Additional Information', \n",
    "    'Full-Time/Part-Time indicator'\n",
    "]\n",
    "newdf = df.drop(columns=columnsToDrop)"
   ]
  },
  {
   "cell_type": "code",
   "execution_count": 4,
   "id": "80bd3ffc-affb-486f-ac47-3929ede1e210",
   "metadata": {},
   "outputs": [],
   "source": [
    "newdf.drop_duplicates(inplace=True)\n"
   ]
  },
  {
   "cell_type": "code",
   "execution_count": 5,
   "id": "1ae222ea-af33-42da-b981-c713e9e1dd47",
   "metadata": {},
   "outputs": [],
   "source": [
    "def clean_text(text):\n",
    "    text = text.lower()  # Convert to lowercase\n",
    "    text = ' '.join(text.split())  # Remove extra whitespace\n",
    "    text = text.replace('\\n', ' ').replace('\\r', ' ')  # Remove special characters\n",
    "    return text"
   ]
  },
  {
   "cell_type": "code",
   "execution_count": 6,
   "id": "27c453c6-3ae4-4814-94b9-f3a26b218aca",
   "metadata": {},
   "outputs": [],
   "source": [
    "# Apply the cleaning function to relevant columns, handling NaN values\n",
    "newdf['Job Description'] = newdf['Job Description'].fillna('').apply(clean_text)\n",
    "newdf['Minimum Qual Requirements'] = newdf['Minimum Qual Requirements'].fillna('').apply(clean_text)\n",
    "newdf['Preferred Skills'] = newdf['Preferred Skills'].fillna('').apply(clean_text)\n",
    "\n",
    "# Merge relevant text columns into a single 'features' column\n",
    "newdf['features'] = newdf['Job Description'] + ' ' + \\\n",
    "                    newdf['Minimum Qual Requirements'] + ' ' + \\\n",
    "                    newdf['Preferred Skills']"
   ]
  },
  {
   "cell_type": "code",
   "execution_count": 7,
   "id": "8820d0fe-51f8-497f-be5b-bf0f2a9ae6c0",
   "metadata": {},
   "outputs": [],
   "source": [
    "# Filter the dataset to include necessary columns\n",
    "cleanData = newdf.filter(items=['Job ID',  'Job Category', 'features'])\n"
   ]
  },
  {
   "cell_type": "code",
   "execution_count": 8,
   "id": "85285e26-ae15-4953-9261-1772d7ae90c8",
   "metadata": {},
   "outputs": [],
   "source": [
    "# Resampling to balance the data\n",
    "max_count = cleanData['Job Category'].value_counts().max()\n",
    "balanced_data = []\n",
    "for category in cleanData['Job Category'].unique():\n",
    "    category_data = cleanData[cleanData['Job Category'] == category]\n",
    "    if len(category_data) < max_count:\n",
    "        balance_cat_data = resample(category_data, replace=True, n_samples=max_count, random_state=42)\n",
    "    else:\n",
    "        balance_cat_data = resample(category_data, replace=False, n_samples=max_count, random_state=42)\n",
    "    balanced_data.append(balance_cat_data)\n",
    "\n",
    "# Concatenate all balanced data\n",
    "balance_df = pd.concat(balanced_data)"
   ]
  },
  {
   "cell_type": "code",
   "execution_count": 9,
   "id": "dd46fe40-bc09-4096-a572-fb7db68f4721",
   "metadata": {},
   "outputs": [],
   "source": [
    "# Reset the index\n",
    "balance_df.reset_index(drop=True, inplace=True)"
   ]
  },
  {
   "cell_type": "code",
   "execution_count": 10,
   "id": "94b92430-ce96-46c5-b0ac-bd388910775c",
   "metadata": {},
   "outputs": [
    {
     "data": {
      "text/plain": [
       "Constituent Services & Community Programs                                                                                                                                                                                   377\n",
       "Communications & Intergovernmental Affairs Legal Affairs Policy, Research & Analysis Public Safety, Inspections, & Enforcement                                                                                              377\n",
       "Administration & Human Resources Constituent Services & Community Programs Engineering, Architecture, & Planning Building Operations & Maintenance Policy, Research & Analysis Public Safety, Inspections, & Enforcement    377\n",
       "Communications & Intergovernmental Affairs Finance, Accounting, & Procurement Policy, Research & Analysis                                                                                                                   377\n",
       "Constituent Services & Community Programs Communications & Intergovernmental Affairs Legal Affairs Public Safety, Inspections, & Enforcement Social Services                                                                377\n",
       "                                                                                                                                                                                                                           ... \n",
       "Constituent Services & Community Programs Engineering, Architecture, & Planning Building Operations & Maintenance Policy, Research & Analysis                                                                               377\n",
       "Finance, Accounting, & Procurement Policy, Research & Analysis                                                                                                                                                              377\n",
       "Administration & Human Resources Legal Affairs                                                                                                                                                                              377\n",
       "Administration & Human Resources Constituent Services & Community Programs Finance, Accounting, & Procurement Policy, Research & Analysis                                                                                   377\n",
       "Legal Affairs Policy, Research & Analysis Public Safety, Inspections, & Enforcement Social Services                                                                                                                         377\n",
       "Name: Job Category, Length: 201, dtype: int64"
      ]
     },
     "execution_count": 10,
     "metadata": {},
     "output_type": "execute_result"
    }
   ],
   "source": [
    "balance_df['Job Category'].value_counts()"
   ]
  },
  {
   "cell_type": "code",
   "execution_count": 11,
   "id": "1e6b9b9b-752f-4e4a-99d8-d4f51b8a5995",
   "metadata": {},
   "outputs": [],
   "source": [
    "# Sampling a smaller portion of the data (70% of the balanced dataset)\n",
    "small_sample = balance_df.sample(frac=0.7, random_state=42)\n",
    "\n",
    "# Splitting the sample data for training and testing\n",
    "x_sample = small_sample['features']\n",
    "y_sample = small_sample['Job Category']"
   ]
  },
  {
   "cell_type": "code",
   "execution_count": 12,
   "id": "30aa10db-1952-428d-b610-54e2ee976f62",
   "metadata": {},
   "outputs": [],
   "source": [
    "x_train, x_test, y_train, y_test = train_test_split(x_sample, y_sample, test_size=0.2, random_state=42)\n"
   ]
  },
  {
   "cell_type": "code",
   "execution_count": 13,
   "id": "474925dc-5f3e-4e48-9c7c-06ace0417c84",
   "metadata": {},
   "outputs": [],
   "source": [
    "# Limiting the features in TF-IDF vectorization to speed up processing\n",
    "tfidf_vectorizer = TfidfVectorizer(max_features=5000)\n",
    "x_train_tfidf = tfidf_vectorizer.fit_transform(x_train)\n",
    "x_test_tfidf = tfidf_vectorizer.transform(x_test)"
   ]
  },
  {
   "cell_type": "code",
   "execution_count": 14,
   "id": "6be11656-ac73-40fc-9d31-0d83b01aeef2",
   "metadata": {},
   "outputs": [
    {
     "data": {
      "text/html": [
       "<style>#sk-container-id-1 {color: black;background-color: white;}#sk-container-id-1 pre{padding: 0;}#sk-container-id-1 div.sk-toggleable {background-color: white;}#sk-container-id-1 label.sk-toggleable__label {cursor: pointer;display: block;width: 100%;margin-bottom: 0;padding: 0.3em;box-sizing: border-box;text-align: center;}#sk-container-id-1 label.sk-toggleable__label-arrow:before {content: \"▸\";float: left;margin-right: 0.25em;color: #696969;}#sk-container-id-1 label.sk-toggleable__label-arrow:hover:before {color: black;}#sk-container-id-1 div.sk-estimator:hover label.sk-toggleable__label-arrow:before {color: black;}#sk-container-id-1 div.sk-toggleable__content {max-height: 0;max-width: 0;overflow: hidden;text-align: left;background-color: #f0f8ff;}#sk-container-id-1 div.sk-toggleable__content pre {margin: 0.2em;color: black;border-radius: 0.25em;background-color: #f0f8ff;}#sk-container-id-1 input.sk-toggleable__control:checked~div.sk-toggleable__content {max-height: 200px;max-width: 100%;overflow: auto;}#sk-container-id-1 input.sk-toggleable__control:checked~label.sk-toggleable__label-arrow:before {content: \"▾\";}#sk-container-id-1 div.sk-estimator input.sk-toggleable__control:checked~label.sk-toggleable__label {background-color: #d4ebff;}#sk-container-id-1 div.sk-label input.sk-toggleable__control:checked~label.sk-toggleable__label {background-color: #d4ebff;}#sk-container-id-1 input.sk-hidden--visually {border: 0;clip: rect(1px 1px 1px 1px);clip: rect(1px, 1px, 1px, 1px);height: 1px;margin: -1px;overflow: hidden;padding: 0;position: absolute;width: 1px;}#sk-container-id-1 div.sk-estimator {font-family: monospace;background-color: #f0f8ff;border: 1px dotted black;border-radius: 0.25em;box-sizing: border-box;margin-bottom: 0.5em;}#sk-container-id-1 div.sk-estimator:hover {background-color: #d4ebff;}#sk-container-id-1 div.sk-parallel-item::after {content: \"\";width: 100%;border-bottom: 1px solid gray;flex-grow: 1;}#sk-container-id-1 div.sk-label:hover label.sk-toggleable__label {background-color: #d4ebff;}#sk-container-id-1 div.sk-serial::before {content: \"\";position: absolute;border-left: 1px solid gray;box-sizing: border-box;top: 0;bottom: 0;left: 50%;z-index: 0;}#sk-container-id-1 div.sk-serial {display: flex;flex-direction: column;align-items: center;background-color: white;padding-right: 0.2em;padding-left: 0.2em;position: relative;}#sk-container-id-1 div.sk-item {position: relative;z-index: 1;}#sk-container-id-1 div.sk-parallel {display: flex;align-items: stretch;justify-content: center;background-color: white;position: relative;}#sk-container-id-1 div.sk-item::before, #sk-container-id-1 div.sk-parallel-item::before {content: \"\";position: absolute;border-left: 1px solid gray;box-sizing: border-box;top: 0;bottom: 0;left: 50%;z-index: -1;}#sk-container-id-1 div.sk-parallel-item {display: flex;flex-direction: column;z-index: 1;position: relative;background-color: white;}#sk-container-id-1 div.sk-parallel-item:first-child::after {align-self: flex-end;width: 50%;}#sk-container-id-1 div.sk-parallel-item:last-child::after {align-self: flex-start;width: 50%;}#sk-container-id-1 div.sk-parallel-item:only-child::after {width: 0;}#sk-container-id-1 div.sk-dashed-wrapped {border: 1px dashed gray;margin: 0 0.4em 0.5em 0.4em;box-sizing: border-box;padding-bottom: 0.4em;background-color: white;}#sk-container-id-1 div.sk-label label {font-family: monospace;font-weight: bold;display: inline-block;line-height: 1.2em;}#sk-container-id-1 div.sk-label-container {text-align: center;}#sk-container-id-1 div.sk-container {/* jupyter's `normalize.less` sets `[hidden] { display: none; }` but bootstrap.min.css set `[hidden] { display: none !important; }` so we also need the `!important` here to be able to override the default hidden behavior on the sphinx rendered scikit-learn.org. See: https://github.com/scikit-learn/scikit-learn/issues/21755 */display: inline-block !important;position: relative;}#sk-container-id-1 div.sk-text-repr-fallback {display: none;}</style><div id=\"sk-container-id-1\" class=\"sk-top-container\"><div class=\"sk-text-repr-fallback\"><pre>RandomForestClassifier(random_state=42)</pre><b>In a Jupyter environment, please rerun this cell to show the HTML representation or trust the notebook. <br />On GitHub, the HTML representation is unable to render, please try loading this page with nbviewer.org.</b></div><div class=\"sk-container\" hidden><div class=\"sk-item\"><div class=\"sk-estimator sk-toggleable\"><input class=\"sk-toggleable__control sk-hidden--visually\" id=\"sk-estimator-id-1\" type=\"checkbox\" checked><label for=\"sk-estimator-id-1\" class=\"sk-toggleable__label sk-toggleable__label-arrow\">RandomForestClassifier</label><div class=\"sk-toggleable__content\"><pre>RandomForestClassifier(random_state=42)</pre></div></div></div></div></div>"
      ],
      "text/plain": [
       "RandomForestClassifier(random_state=42)"
      ]
     },
     "execution_count": 14,
     "metadata": {},
     "output_type": "execute_result"
    }
   ],
   "source": [
    "# Initialize RandomForestClassifier with fewer trees and parallel processing\n",
    "rf_classifier = RandomForestClassifier(n_estimators=100, random_state=42)\n",
    "rf_classifier.fit(x_train_tfidf, y_train)"
   ]
  },
  {
   "cell_type": "code",
   "execution_count": 15,
   "id": "60ca232d-160d-4650-a7d2-f4c44f044a0c",
   "metadata": {},
   "outputs": [],
   "source": [
    "# Predictions and evaluation\n",
    "y_pred = rf_classifier.predict(x_test_tfidf)"
   ]
  },
  {
   "cell_type": "code",
   "execution_count": 16,
   "id": "950727a0-77db-402a-b8c5-4d0747a77a66",
   "metadata": {},
   "outputs": [
    {
     "name": "stdout",
     "output_type": "stream",
     "text": [
      "Accuracy: 0.9906\n"
     ]
    }
   ],
   "source": [
    "# Accuracy\n",
    "accuracy = accuracy_score(y_test, y_pred)\n",
    "print(f'Accuracy: {accuracy:.4f}')\n",
    "\n"
   ]
  },
  {
   "cell_type": "code",
   "execution_count": 17,
   "id": "066bda85-8192-4751-8ddb-f13566609d0a",
   "metadata": {},
   "outputs": [
    {
     "name": "stdout",
     "output_type": "stream",
     "text": [
      "Confusion Matrix:\n",
      " [[61  0  0 ...  0  0  0]\n",
      " [ 0 35  0 ...  0  0  0]\n",
      " [ 0  0 58 ...  0  0  0]\n",
      " ...\n",
      " [ 0  0  0 ... 48  0  0]\n",
      " [ 0  0  0 ...  0 46  0]\n",
      " [ 0  0  0 ...  0  0 41]]\n"
     ]
    }
   ],
   "source": [
    "# Confusion Matrix\n",
    "conf_matrix = confusion_matrix(y_test, y_pred)\n",
    "print(\"Confusion Matrix:\\n\", conf_matrix)\n",
    "\n"
   ]
  },
  {
   "cell_type": "code",
   "execution_count": 18,
   "id": "45ced341-31c8-4f14-87ee-e5bfb166e636",
   "metadata": {},
   "outputs": [
    {
     "data": {
      "image/png": "[encoded data removed]",
      "text/plain": [
       "<Figure size 640x480 with 2 Axes>"
      ]
     },
     "metadata": {},
     "output_type": "display_data"
    }
   ],
   "source": [
    "# Plotting the confusion matrix\n",
    "sns.heatmap(conf_matrix, annot=True, fmt='d', cmap='Blues')\n",
    "plt.ylabel('Actual Category')\n",
    "plt.xlabel('Predicted Category')\n",
    "plt.title('Confusion Matrix')\n",
    "plt.show()"
   ]
  },
  {
   "cell_type": "code",
   "execution_count": 19,
   "id": "c90e94cd-0d0a-4fac-9863-b4ca55265500",
   "metadata": {},
   "outputs": [],
   "source": [
    "# Function to process the CV\n",
    "def process_cv(cv_text):\n",
    "    cleaned_cv = clean_text(cv_text)\n",
    "    cv_tfidf = tfidf_vectorizer.transform([cleaned_cv])\n",
    "    return cv_tfidf"
   ]
  },
  {
   "cell_type": "code",
   "execution_count": 22,
   "id": "e0f7ec8f-0bdf-4af2-99c9-5fe5b4672de3",
   "metadata": {},
   "outputs": [],
   "source": [
    "# Function to recommend jobs based on CV\n",
    "def recommend_jobs(cv_text, top_n=5):\n",
    "    # Process the CV\n",
    "    cv_features = process_cv(cv_text)\n",
    "    \n",
    "    # Predict job category from CV\n",
    "    predicted_category = rf_classifier.predict(cv_features)[0]\n",
    "    \n",
    "    # Filter job listings with the predicted category\n",
    "    matching_jobs = balance_df[balance_df['Job Category'] == predicted_category]\n",
    "    \n",
    "    # Output top N job recommendations\n",
    "    print(f\"\\nRecommended jobs for category '{predicted_category}':\\n\")\n",
    "    recommended_jobs = matching_jobs[['Job ID', 'Job Category', 'features']].head(top_n)\n",
    "    \n",
    "    for idx, row in recommended_jobs.iterrows():\n",
    "        print(f\"Job ID: {row['Job ID']}\")\n",
    "        print(f\"Job Category: {row['Job Category']}\")\n",
    "        print(f\"Job Description: {row['features'][:200]}...\")  # Show first 200 characters of job description\n",
    "        print(\"\\n\")"
   ]
  },
  {
   "cell_type": "code",
   "execution_count": 21,
   "id": "774da7db-f8f1-4da5-8403-89082f64e8dd",
   "metadata": {},
   "outputs": [
    {
     "name": "stdin",
     "output_type": "stream",
     "text": [
      "Please input your CV content here:\n",
      " John Doe  Contact Information:  Email: johndoe@email.com Phone: (123) 456-7890 Address: 123 Finance Street, New York, NY 10001 Professional Summary: Results-driven finance professional with over 5 years of experience in accounting, financial analysis, and procurement management. Adept at optimizing financial processes, conducting detailed financial analysis, and managing budgets. Strong knowledge of procurement strategies, vendor negotiations, and cost-saving techniques. Proficient in financial software and ERP systems.  Core Competencies: Financial Reporting Budgeting & Forecasting Cost Control & Analysis Vendor Management & Procurement Accounts Payable/Receivable ERP Systems (SAP, Oracle) Contract Negotiation Audit Support Risk Management Professional Experience: Senior Financial Analyst XYZ Corporation | New York, NY | January 2020 – Present  Prepare financial statements, reports, and forecasts to support business decision-making. Analyze budget variances and provide recommendations to improve financial performance. Manage the company’s procurement process, ensuring cost-effective sourcing and vendor negotiation. Develop financial models to assess capital expenditure and investment opportunities. Streamline accounts payable and receivable processes, reducing processing time by 15%. Finance & Procurement Officer ABC Consulting | New York, NY | June 2016 – December 2019  Led the procurement process for multiple client projects, negotiating contracts and ensuring compliance with financial policies. Provided financial analysis and reports for various departments, supporting accurate budget planning. Managed cash flow and working capital requirements, optimizing payment cycles and vendor relations. Assisted in year-end audits, ensuring accuracy and timely submission of financial documents. Education: Bachelor of Science in Finance New York University | New York, NY | Graduated: May 2016  Certifications: Certified Public Accountant (CPA) – NY State Certified Procurement Professional (CPP) Technical Skills: Advanced proficiency in Microsoft Excel SAP ERP, Oracle Financials QuickBooks, Sage Accounting Software Languages: English (Fluent) Spanish (Conversational)\n"
     ]
    }
   ],
   "source": [
    "# Prompt user to input CV text\n",
    "cv_text = input(\"Please input your CV content here:\\n\")\n"
   ]
  },
  {
   "cell_type": "code",
   "execution_count": 22,
   "id": "fec5be46-3f87-4fe3-a902-5579008d876d",
   "metadata": {},
   "outputs": [
    {
     "name": "stdout",
     "output_type": "stream",
     "text": [
      "\n",
      "Recommended jobs for category 'Finance, Accounting, & Procurement':\n",
      "\n",
      "Job ID: 590950\n",
      "Job Category: Finance, Accounting, & Procurement\n",
      "Job Description: note: all applicants must be current city of new york employees serving in a permanent (not provisional) civil service title of management auditor or accountant. the office of the new york city comptr...\n",
      "\n",
      "\n",
      "Job ID: 590406\n",
      "Job Category: Finance, Accounting, & Procurement\n",
      "Job Description: * important note** only those serving as a permanent procurement analyst** the nyc department of environmental protection (dep) enriches the environment and protects public health for all new yorkers ...\n",
      "\n",
      "\n",
      "Job ID: 556917\n",
      "Job Category: Finance, Accounting, & Procurement\n",
      "Job Description: ***important note: only those currently serving as a permanent or probable permanent administrative procurement analyst non-manager will be considered.*** the nyc department of environmental protectio...\n",
      "\n",
      "\n",
      "Job ID: 598714\n",
      "Job Category: Finance, Accounting, & Procurement\n",
      "Job Description: the new york city department of youth and community development (dycd) invests in a network of community-based organizations and programs to alleviate the effects of poverty and to provide opportuniti...\n",
      "\n",
      "\n",
      "Job ID: 614240\n",
      "Job Category: Finance, Accounting, & Procurement\n",
      "Job Description: open to permanent incumbents in the title of administrative contract specialist or any of the following equivalent titles: administrative staff analyst: administrative procurement analyst: administrat...\n",
      "\n",
      "\n"
     ]
    }
   ],
   "source": [
    "# Recommend jobs based on the input CV\n",
    "recommend_jobs(cv_text, top_n=5)"
   ]
  }
 ],
 "metadata": {
  "kernelspec": {
   "display_name": "Python 3 (ipykernel)",
   "language": "python",
   "name": "python3"
  },
  "language_info": {
   "codemirror_mode": {
    "name": "ipython",
    "version": 3
   },
   "file_extension": ".py",
   "mimetype": "text/x-python",
   "name": "python",
   "nbconvert_exporter": "python",
   "pygments_lexer": "ipython3",
   "version": "3.10.9"
  }
 },
 "nbformat": 4,
 "nbformat_minor": 5
}

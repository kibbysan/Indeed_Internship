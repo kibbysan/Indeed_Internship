{
 "cells": [
  {
   "cell_type": "code",
   "execution_count": 7,
   "id": "0d572219-b403-4c99-9442-5fcac73474d3",
   "metadata": {},
   "outputs": [],
   "source": [
    "import Levenshtein"
   ]
  },
  {
   "cell_type": "code",
   "execution_count": 9,
   "id": "5dc56fc9-3b6a-47c4-90fc-daf240945de8",
   "metadata": {},
   "outputs": [],
   "source": [
    "import pandas as pd"
   ]
  },
  {
   "cell_type": "code",
   "execution_count": 11,
   "id": "b8ba8127-b0d4-452f-8f7a-42f9047dbb9c",
   "metadata": {},
   "outputs": [],
   "source": [
    "from fuzzywuzzy import process"
   ]
  },
  {
   "cell_type": "code",
   "execution_count": 13,
   "id": "07c67e1b-6faa-4b83-a79e-90dadd526282",
   "metadata": {},
   "outputs": [],
   "source": [
    "df=pd.read_csv('NYC Fresh Jobs Postings.csv')"
   ]
  },
  {
   "cell_type": "code",
   "execution_count": 15,
   "id": "785a8bc1-7bf6-4eae-9c08-9189523634ea",
   "metadata": {},
   "outputs": [],
   "source": [
    "df_new=df[['Agency','Business Title','Job Description']]"
   ]
  },
  {
   "cell_type": "code",
   "execution_count": 17,
   "id": "7995bb93-368a-4623-8eae-55f9000facac",
   "metadata": {},
   "outputs": [
    {
     "data": {
      "text/html": [
       "<div>\n",
       "<style scoped>\n",
       "    .dataframe tbody tr th:only-of-type {\n",
       "        vertical-align: middle;\n",
       "    }\n",
       "\n",
       "    .dataframe tbody tr th {\n",
       "        vertical-align: top;\n",
       "    }\n",
       "\n",
       "    .dataframe thead th {\n",
       "        text-align: right;\n",
       "    }\n",
       "</style>\n",
       "<table border=\"1\" class=\"dataframe\">\n",
       "  <thead>\n",
       "    <tr style=\"text-align: right;\">\n",
       "      <th></th>\n",
       "      <th>Agency</th>\n",
       "      <th>Business Title</th>\n",
       "      <th>Job Description</th>\n",
       "    </tr>\n",
       "  </thead>\n",
       "  <tbody>\n",
       "    <tr>\n",
       "      <th>0</th>\n",
       "      <td>HOUSING PRESERVATION &amp; DVLPMNT</td>\n",
       "      <td>Deputy Director of Budget for the Division of ...</td>\n",
       "      <td>About the Agency:   The NYC Department Housing...</td>\n",
       "    </tr>\n",
       "    <tr>\n",
       "      <th>1</th>\n",
       "      <td>DEPT OF RECORDS &amp; INFO SERVICE</td>\n",
       "      <td>IT PROJECT MANAGER</td>\n",
       "      <td>This role will manage a variety of projects en...</td>\n",
       "    </tr>\n",
       "    <tr>\n",
       "      <th>2</th>\n",
       "      <td>DEPT OF ENVIRONMENT PROTECTION</td>\n",
       "      <td>Emergency Management Specialist</td>\n",
       "      <td>***IMPORTANT NOTE: Only those currently servin...</td>\n",
       "    </tr>\n",
       "    <tr>\n",
       "      <th>3</th>\n",
       "      <td>DEPT OF ENVIRONMENT PROTECTION</td>\n",
       "      <td>INSTRUMENTATION SPECIALIST</td>\n",
       "      <td>***IMPORTANT NOTE: Candidates selected to fill...</td>\n",
       "    </tr>\n",
       "    <tr>\n",
       "      <th>4</th>\n",
       "      <td>DEPARTMENT OF TRANSPORTATION</td>\n",
       "      <td>Energy Manager</td>\n",
       "      <td>According to the Local Law 97 (LL97) Implement...</td>\n",
       "    </tr>\n",
       "    <tr>\n",
       "      <th>...</th>\n",
       "      <td>...</td>\n",
       "      <td>...</td>\n",
       "      <td>...</td>\n",
       "    </tr>\n",
       "    <tr>\n",
       "      <th>6294</th>\n",
       "      <td>DEPT OF ENVIRONMENT PROTECTION</td>\n",
       "      <td>BUYER</td>\n",
       "      <td>Only those applicants with permanent civil ser...</td>\n",
       "    </tr>\n",
       "    <tr>\n",
       "      <th>6295</th>\n",
       "      <td>NYC HOUSING AUTHORITY</td>\n",
       "      <td>Financial Liaison</td>\n",
       "      <td>Reporting to the Financial Planning Manager wi...</td>\n",
       "    </tr>\n",
       "    <tr>\n",
       "      <th>6296</th>\n",
       "      <td>DEPT OF ENVIRONMENT PROTECTION</td>\n",
       "      <td>Permit Supervisor</td>\n",
       "      <td>The NYC Department of Environmental Protection...</td>\n",
       "    </tr>\n",
       "    <tr>\n",
       "      <th>6297</th>\n",
       "      <td>DEPARTMENT OF TRANSPORTATION</td>\n",
       "      <td>Community Coordinator</td>\n",
       "      <td>DOT is seeking a dynamic Community Coordinator...</td>\n",
       "    </tr>\n",
       "    <tr>\n",
       "      <th>6298</th>\n",
       "      <td>DEPT OF HEALTH/MENTAL HYGIENE</td>\n",
       "      <td>Nurse Practitioner, Bureau of Public Health Cl...</td>\n",
       "      <td>The Bureau of Public Health Clinics (BPHC) has...</td>\n",
       "    </tr>\n",
       "  </tbody>\n",
       "</table>\n",
       "<p>6299 rows × 3 columns</p>\n",
       "</div>"
      ],
      "text/plain": [
       "                              Agency  \\\n",
       "0     HOUSING PRESERVATION & DVLPMNT   \n",
       "1     DEPT OF RECORDS & INFO SERVICE   \n",
       "2     DEPT OF ENVIRONMENT PROTECTION   \n",
       "3     DEPT OF ENVIRONMENT PROTECTION   \n",
       "4       DEPARTMENT OF TRANSPORTATION   \n",
       "...                              ...   \n",
       "6294  DEPT OF ENVIRONMENT PROTECTION   \n",
       "6295           NYC HOUSING AUTHORITY   \n",
       "6296  DEPT OF ENVIRONMENT PROTECTION   \n",
       "6297    DEPARTMENT OF TRANSPORTATION   \n",
       "6298   DEPT OF HEALTH/MENTAL HYGIENE   \n",
       "\n",
       "                                         Business Title  \\\n",
       "0     Deputy Director of Budget for the Division of ...   \n",
       "1                                    IT PROJECT MANAGER   \n",
       "2                       Emergency Management Specialist   \n",
       "3                            INSTRUMENTATION SPECIALIST   \n",
       "4                                        Energy Manager   \n",
       "...                                                 ...   \n",
       "6294                                              BUYER   \n",
       "6295                                  Financial Liaison   \n",
       "6296                                  Permit Supervisor   \n",
       "6297                              Community Coordinator   \n",
       "6298  Nurse Practitioner, Bureau of Public Health Cl...   \n",
       "\n",
       "                                        Job Description  \n",
       "0     About the Agency:   The NYC Department Housing...  \n",
       "1     This role will manage a variety of projects en...  \n",
       "2     ***IMPORTANT NOTE: Only those currently servin...  \n",
       "3     ***IMPORTANT NOTE: Candidates selected to fill...  \n",
       "4     According to the Local Law 97 (LL97) Implement...  \n",
       "...                                                 ...  \n",
       "6294  Only those applicants with permanent civil ser...  \n",
       "6295  Reporting to the Financial Planning Manager wi...  \n",
       "6296  The NYC Department of Environmental Protection...  \n",
       "6297  DOT is seeking a dynamic Community Coordinator...  \n",
       "6298  The Bureau of Public Health Clinics (BPHC) has...  \n",
       "\n",
       "[6299 rows x 3 columns]"
      ]
     },
     "execution_count": 17,
     "metadata": {},
     "output_type": "execute_result"
    }
   ],
   "source": [
    "df_new"
   ]
  },
  {
   "cell_type": "code",
   "execution_count": 19,
   "id": "bd2e80d0-5d8d-46a7-b810-af2c5a85c97e",
   "metadata": {},
   "outputs": [
    {
     "data": {
      "text/plain": [
       "['Job ID',\n",
       " 'Agency',\n",
       " 'Posting Type',\n",
       " '# Of Positions',\n",
       " 'Business Title',\n",
       " 'Civil Service Title',\n",
       " 'Title Classification',\n",
       " 'Title Code No',\n",
       " 'Level',\n",
       " 'Job Category',\n",
       " 'Full-Time/Part-Time indicator',\n",
       " 'Career Level',\n",
       " 'Salary Range From',\n",
       " 'Salary Range To',\n",
       " 'Salary Frequency',\n",
       " 'Work Location',\n",
       " 'Division/Work Unit',\n",
       " 'Job Description',\n",
       " 'Minimum Qual Requirements',\n",
       " 'Preferred Skills',\n",
       " 'Additional Information',\n",
       " 'To Apply',\n",
       " 'Hours/Shift',\n",
       " 'Work Location 1',\n",
       " 'Recruitment Contact',\n",
       " 'Residency Requirement',\n",
       " 'Posting Date',\n",
       " 'Post Until',\n",
       " 'Posting Updated',\n",
       " 'Process Date']"
      ]
     },
     "execution_count": 19,
     "metadata": {},
     "output_type": "execute_result"
    }
   ],
   "source": [
    "df.columns.tolist()"
   ]
  },
  {
   "cell_type": "code",
   "execution_count": 21,
   "id": "6fc85db2-a697-4e92-b107-7fe16018a187",
   "metadata": {},
   "outputs": [],
   "source": [
    "def get_recommendation(search,df,limit=10):\n",
    "    combined_list=df['Agency'].tolist() + df['Business Title'].tolist() + df['Job Description'].tolist()\n",
    "    matches=process.extract(search,combined_list,limit=limit)\n",
    "    recommendation =[]\n",
    "    for match in matches:\n",
    "        idx = df[(df['Agency'] == match[0]) | (df['Business Title'] == match[0]) | (df['Job Description'] == match[0])].index[0]\n",
    "        recommendation.append((df.at[idx, 'Business Title'], df.at[idx, 'Agency'],df.at[idx,'Salary Range From'],df.at[idx,'Salary Range To'], df.at[idx, 'Work Location'], df.at[idx, 'Preferred Skills']))\n",
    "    return recommendation"
   ]
  },
  {
   "cell_type": "code",
   "execution_count": 23,
   "id": "4d639c7e-dc91-45db-9261-35e5a3be8e0c",
   "metadata": {},
   "outputs": [
    {
     "name": "stdin",
     "output_type": "stream",
     "text": [
      "Enter the keyword for job search: Manage\n"
     ]
    },
    {
     "name": "stdout",
     "output_type": "stream",
     "text": [
      "Recommendation\n",
      " (Business Title, Agency, Salary Range From, Salary Range To, Work Location, Preferred Skills):\n",
      "('LOGISTICS PROGRAM MANAGER', 'OFFICE OF EMERGENCY MANAGEMENT', 65000.0, 74000.0, '165 Cadman Plaza East', 'â\\x80¢\\tExperience in operations research, warehouse management, technology program management   â\\x80¢\\tIntermediate to expert Microsoft Excel skills is a must â\\x80¢\\tSoftware program management is a must  â\\x80¢\\tExperience working with private and public sector clients   â\\x80¢\\tExperience managing multiple projects in a high pressure work environment   â\\x80¢\\tTraining in concepts of the Incident Command System (ICS) (100, 200, 300, 700, 800 levels preferred)   â\\x80¢\\tSuperior written and oral communications skills   â\\x80¢\\tPossession of a valid driverâ\\x80\\x99s license and the ability to drive are preferred  **Studies have shown that women, people of color, and other under-represented groups are less likely to apply for jobs unless they believe they are able to perform every task in the job description. We are interested in finding the best candidate for the job and will consider any equivalent combination of knowledge, skills, education and experience to meet qualifications. If you are interested in applying, we encourage you to think broadly about your background and skill set for the role.**')\n",
      "('Value Engineering Project Manager  Value Engineering', 'OFFICE OF MANAGEMENT & BUDGET', 83399.0, 90904.0, '255 Greenwich Street', 'QUALIFICATIONS:   The successful candidate must be able to maintain confidentiality and have excellent quantitative, analytical, and interpersonal skills. The candidate must also be able to communicate effectively in both written and oral formats. The candidate must also have demonstrated attention to detail, ability to handle multiple tasks and meet deadlines, and strong organizational, project management skills.  The ideal candidate must have an understanding of design and construction.  Municipal technical experience is a strong plus.')\n",
      "('LOGISTICS PROGRAM MANAGER', 'OFFICE OF EMERGENCY MANAGEMENT', 65000.0, 74000.0, '165 Cadman Plaza East', 'â\\x80¢\\tExperience in operations research, warehouse management, technology program management   â\\x80¢\\tIntermediate to expert Microsoft Excel skills is a must â\\x80¢\\tSoftware program management is a must  â\\x80¢\\tExperience working with private and public sector clients   â\\x80¢\\tExperience managing multiple projects in a high pressure work environment   â\\x80¢\\tTraining in concepts of the Incident Command System (ICS) (100, 200, 300, 700, 800 levels preferred)   â\\x80¢\\tSuperior written and oral communications skills   â\\x80¢\\tPossession of a valid driverâ\\x80\\x99s license and the ability to drive are preferred  **Studies have shown that women, people of color, and other under-represented groups are less likely to apply for jobs unless they believe they are able to perform every task in the job description. We are interested in finding the best candidate for the job and will consider any equivalent combination of knowledge, skills, education and experience to meet qualifications. If you are interested in applying, we encourage you to think broadly about your background and skill set for the role.**')\n",
      "('LOGISTICS PROGRAM MANAGER', 'OFFICE OF EMERGENCY MANAGEMENT', 65000.0, 74000.0, '165 Cadman Plaza East', 'â\\x80¢\\tExperience in operations research, warehouse management, technology program management   â\\x80¢\\tIntermediate to expert Microsoft Excel skills is a must â\\x80¢\\tSoftware program management is a must  â\\x80¢\\tExperience working with private and public sector clients   â\\x80¢\\tExperience managing multiple projects in a high pressure work environment   â\\x80¢\\tTraining in concepts of the Incident Command System (ICS) (100, 200, 300, 700, 800 levels preferred)   â\\x80¢\\tSuperior written and oral communications skills   â\\x80¢\\tPossession of a valid driverâ\\x80\\x99s license and the ability to drive are preferred  **Studies have shown that women, people of color, and other under-represented groups are less likely to apply for jobs unless they believe they are able to perform every task in the job description. We are interested in finding the best candidate for the job and will consider any equivalent combination of knowledge, skills, education and experience to meet qualifications. If you are interested in applying, we encourage you to think broadly about your background and skill set for the role.**')\n",
      "('Value Engineering Project Manager  Value Engineering', 'OFFICE OF MANAGEMENT & BUDGET', 83399.0, 90904.0, '255 Greenwich Street', 'QUALIFICATIONS:   The successful candidate must be able to maintain confidentiality and have excellent quantitative, analytical, and interpersonal skills. The candidate must also be able to communicate effectively in both written and oral formats. The candidate must also have demonstrated attention to detail, ability to handle multiple tasks and meet deadlines, and strong organizational, project management skills.  The ideal candidate must have an understanding of design and construction.  Municipal technical experience is a strong plus.')\n",
      "('Value Engineering Project Manager  Value Engineering', 'OFFICE OF MANAGEMENT & BUDGET', 83399.0, 90904.0, '255 Greenwich Street', 'QUALIFICATIONS:   The successful candidate must be able to maintain confidentiality and have excellent quantitative, analytical, and interpersonal skills. The candidate must also be able to communicate effectively in both written and oral formats. The candidate must also have demonstrated attention to detail, ability to handle multiple tasks and meet deadlines, and strong organizational, project management skills.  The ideal candidate must have an understanding of design and construction.  Municipal technical experience is a strong plus.')\n",
      "('LOGISTICS PROGRAM MANAGER', 'OFFICE OF EMERGENCY MANAGEMENT', 65000.0, 74000.0, '165 Cadman Plaza East', 'â\\x80¢\\tExperience in operations research, warehouse management, technology program management   â\\x80¢\\tIntermediate to expert Microsoft Excel skills is a must â\\x80¢\\tSoftware program management is a must  â\\x80¢\\tExperience working with private and public sector clients   â\\x80¢\\tExperience managing multiple projects in a high pressure work environment   â\\x80¢\\tTraining in concepts of the Incident Command System (ICS) (100, 200, 300, 700, 800 levels preferred)   â\\x80¢\\tSuperior written and oral communications skills   â\\x80¢\\tPossession of a valid driverâ\\x80\\x99s license and the ability to drive are preferred  **Studies have shown that women, people of color, and other under-represented groups are less likely to apply for jobs unless they believe they are able to perform every task in the job description. We are interested in finding the best candidate for the job and will consider any equivalent combination of knowledge, skills, education and experience to meet qualifications. If you are interested in applying, we encourage you to think broadly about your background and skill set for the role.**')\n",
      "('Value Engineering Project Manager  Value Engineering', 'OFFICE OF MANAGEMENT & BUDGET', 83399.0, 90904.0, '255 Greenwich Street', 'QUALIFICATIONS:   The successful candidate must be able to maintain confidentiality and have excellent quantitative, analytical, and interpersonal skills. The candidate must also be able to communicate effectively in both written and oral formats. The candidate must also have demonstrated attention to detail, ability to handle multiple tasks and meet deadlines, and strong organizational, project management skills.  The ideal candidate must have an understanding of design and construction.  Municipal technical experience is a strong plus.')\n",
      "('Value Engineering Project Manager  Value Engineering', 'OFFICE OF MANAGEMENT & BUDGET', 83399.0, 90904.0, '255 Greenwich Street', 'QUALIFICATIONS:   The successful candidate must be able to maintain confidentiality and have excellent quantitative, analytical, and interpersonal skills. The candidate must also be able to communicate effectively in both written and oral formats. The candidate must also have demonstrated attention to detail, ability to handle multiple tasks and meet deadlines, and strong organizational, project management skills.  The ideal candidate must have an understanding of design and construction.  Municipal technical experience is a strong plus.')\n",
      "('Value Engineering Project Manager  Value Engineering', 'OFFICE OF MANAGEMENT & BUDGET', 83399.0, 90904.0, '255 Greenwich Street', 'QUALIFICATIONS:   The successful candidate must be able to maintain confidentiality and have excellent quantitative, analytical, and interpersonal skills. The candidate must also be able to communicate effectively in both written and oral formats. The candidate must also have demonstrated attention to detail, ability to handle multiple tasks and meet deadlines, and strong organizational, project management skills.  The ideal candidate must have an understanding of design and construction.  Municipal technical experience is a strong plus.')\n"
     ]
    }
   ],
   "source": [
    "search=input(\"Enter the keyword for job search:\")\n",
    "recommendation = get_recommendation(search, df)\n",
    "print(\"Recommendation\\n (Business Title, Agency, Salary Range From, Salary Range To, Work Location, Preferred Skills):\")\n",
    "for rec in recommendation:\n",
    "    print(rec)\n"
   ]
  },
  {
   "cell_type": "code",
   "execution_count": null,
   "id": "a1a2e588-7074-4bc6-9229-fce332e32b34",
   "metadata": {},
   "outputs": [],
   "source": []
  },
  {
   "cell_type": "code",
   "execution_count": null,
   "id": "d78aa6e1-9d81-4e4e-a245-8548e786657c",
   "metadata": {},
   "outputs": [],
   "source": []
  }
 ],
 "metadata": {
  "kernelspec": {
   "display_name": "Python 3 (ipykernel)",
   "language": "python",
   "name": "python3"
  },
  "language_info": {
   "codemirror_mode": {
    "name": "ipython",
    "version": 3
   },
   "file_extension": ".py",
   "mimetype": "text/x-python",
   "name": "python",
   "nbconvert_exporter": "python",
   "pygments_lexer": "ipython3",
   "version": "3.11.5"
  }
 },
 "nbformat": 4,
 "nbformat_minor": 5
}
